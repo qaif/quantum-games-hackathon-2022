{
 "cells": [
  {
   "cell_type": "code",
   "execution_count": 5,
   "id": "06be5d56",
   "metadata": {},
   "outputs": [],
   "source": [
    "import numpy as np\n",
    "import time\n",
    "from scipy import linalg\n",
    "import qiskit\n",
    "import itertools"
   ]
  },
  {
   "cell_type": "code",
   "execution_count": 6,
   "id": "8340e8fb",
   "metadata": {},
   "outputs": [],
   "source": [
    "# Initialize a random number generator\n",
    "rng = np.random.default_rng()"
   ]
  },
  {
   "cell_type": "code",
   "execution_count": null,
   "id": "ff163ce6",
   "metadata": {},
   "outputs": [],
   "source": []
  },
  {
   "cell_type": "code",
   "execution_count": null,
   "id": "c444f90f",
   "metadata": {},
   "outputs": [],
   "source": []
  },
  {
   "cell_type": "code",
   "execution_count": null,
   "id": "3eea9274",
   "metadata": {},
   "outputs": [],
   "source": []
  },
  {
   "cell_type": "code",
   "execution_count": 95,
   "id": "1b87bb11",
   "metadata": {},
   "outputs": [],
   "source": [
    "def grid_adj_mat(rows,columns):\n",
    "    # Returns the adjacency matrix of a grid with rows number of rows and columns number of columns\n",
    "    \n",
    "    N = rows*columns\n",
    "    \n",
    "    graph = np.zeros((N,N))\n",
    "    for j in range(rows-1):\n",
    "        for i in range(columns-1):\n",
    "            graph[j*columns + i,j*columns + i + 1] = 1\n",
    "            graph[j*columns + i + 1,j*columns + i] = 1\n",
    "            graph[j*columns + i, (j + 1)*columns + i] = 1\n",
    "            graph[(j + 1)*columns + i, j*columns + i] = 1\n",
    "    \n",
    "    for j in range(rows-1):\n",
    "        graph[j*columns + columns - 1, (j + 1)*columns + columns - 1] = 1\n",
    "        graph[(j + 1)*columns + columns - 1, j*columns + columns - 1] = 1\n",
    "        \n",
    "    for i in range(columns-1):\n",
    "        graph[(rows - 1)*columns + i,(rows - 1)*columns + i + 1] = 1\n",
    "        graph[(rows - 1)*columns + i + 1,(rows - 1)*columns + i] = 1\n",
    "           \n",
    "    return graph"
   ]
  },
  {
   "cell_type": "code",
   "execution_count": null,
   "id": "8cd4689b",
   "metadata": {},
   "outputs": [],
   "source": [
    "def level_up(graph):\n",
    "    # Run at beginning of each level\n",
    "    \n",
    "    prey_location = rng.integers(graph.shape[0]) # randomly choose a new prey_location"
   ]
  },
  {
   "cell_type": "code",
   "execution_count": 50,
   "id": "7d317e3e",
   "metadata": {},
   "outputs": [],
   "source": [
    "def distances(graph):\n",
    "    # Returns array with each entry being the shortest distance between\n",
    "    # two vertices.\n",
    "    # The input is the adjacency matrix of the graph\n",
    "    # Uses the Floyd-Warshall algorithm\n",
    "    N = graph.shape[0]\n",
    "    dist = np.full((N,N),np.inf)\n",
    "    print(dist)\n",
    "    dist[graph==1] = 1\n",
    "    print(dist)\n",
    "    dist[range(N),range(N)] = 0\n",
    "    print(dist)\n",
    "    for k in range(N):\n",
    "        for i in range(N):\n",
    "            for j in range(N):\n",
    "                if dist[i,j] > dist[i,k] + dist[k,j]:\n",
    "                    dist[i,j] = dist[i,k] + dist[k,j]\n",
    "    return dist"
   ]
  },
  {
   "cell_type": "code",
   "execution_count": 85,
   "id": "3d2de845",
   "metadata": {},
   "outputs": [],
   "source": [
    "def probeable_vertices(graph, snake_body):\n",
    "    # Returns a list of vertices that the user is allowed to probe.\n",
    "    # Where snake_body is a list of vertices, the first being the snake's \n",
    "    # tail and the last being the snake's head.\n",
    "    # And where graph is the adjacency matrix of the graph\n",
    "    \n",
    "    assert len(snake_body) > 1, 'The snake\\'s body must be two or more vertices.'\n",
    "    \n",
    "    vect = graph[snake_body[-1]] # 1 for vertices adjacent to head, 0 otherwise\n",
    "    vect[snake_body[-2]] = 0 # Remove the space just behind the snake's head\n",
    "    \n",
    "    # Return indices of vertices that are adjacent to the head, but not just\n",
    "    # behind the head.\n",
    "    return np.where(vect)[0]"
   ]
  },
  {
   "cell_type": "code",
   "execution_count": 86,
   "id": "c2f7abd9",
   "metadata": {},
   "outputs": [],
   "source": [
    "def query(graph, dist, snake_body, probe_vector, prey_location):\n",
    "    # Given a probe state and the prey's location, this function returns\n",
    "    # the measured distance resulting from the probe as well as the new\n",
    "    # probe state that remains after measurement.\n",
    "    \n",
    "    probed_vertices = probeable_vertices(graph,snake_body) # vertices to be probed\n",
    "    \n",
    "    distances = dist[probe_vertices,prey_location]\n",
    "    # distances from probed vertices to the prey\n",
    "    \n",
    "    probabilites = np.abs(probe_vector)**2 #probs. of the different outcomes\n",
    "    probabilities = probabilities/np.sum(probabilities) # enforce summing up to 1\n",
    "    \n",
    "    measured_distance = rng.choice(distances,p=probabilities)\n",
    "    \n",
    "    # Get resulting state after measurement\n",
    "    new_probe_vector = np.copy(probe_vector)\n",
    "    new_probe_vector[distances!=measured_distance] = 0\n",
    "    \n",
    "    # Normalize\n",
    "    norm = np.sum(np.abs(new_probe_vector)**2)**0.5\n",
    "    new_probe_vector = new_probe_vector/norm\n",
    "    new_norm = np.sum(np.abs(new_probe_vector)**2)\n",
    "    assert new_norm==1, f'Norm is {new_norm}, but it should be 1.'\n",
    "    \n",
    "    return measured_distance, new_probe_vector"
   ]
  },
  {
   "cell_type": "code",
   "execution_count": null,
   "id": "7b755e79",
   "metadata": {},
   "outputs": [],
   "source": [
    "def query_all_cases(graph, dist, snake_body, probe_vector_all_cases, measured_distance):\n",
    "    \n",
    "    \n",
    "    probed_vertices = probeable_vertices(graph,snake_body)\n",
    "    \n",
    "    distances = dist[prob_vertices,:]\n",
    "    \n",
    "    new_probe_vector_all_cases = np.copy(probe_vector_all_cases)\n",
    "    new_probe_vector_all_cases[distances!=measured_distance] = 0\n",
    "    \n",
    "    return new_probe_vector_all_cases\n",
    "    \n",
    "def hint(graph, dist, snake_body, probe_vector_all_cases, prey_location):\n",
    "    \n",
    "    good_moves_vectors = linalg.sqrtm(probe_vector_all_cases.conj().T@probe_vector_all_cases)\n",
    "    good_moves_vector = good_moves_vectors[prey_location]\n",
    "    \n",
    "    probabilities = np.abs(good_moves_vector)**2\n",
    "    good_move = rng.choice(range(len(good_moves_vector)),p=probabilities)\n",
    "    \n",
    "    return good_move"
   ]
  },
  {
   "cell_type": "code",
   "execution_count": null,
   "id": "3eb36049",
   "metadata": {},
   "outputs": [],
   "source": [
    "def probe_measurement(graph, snake_body, probe_vector):\n",
    "    # Returns the index of a vertex that results from measuring the \n",
    "    # given probe state.\n",
    "    \n",
    "    probed_vertices = probeable_vertices(graph,snake_body) # vertices that were probed\n",
    "    \n",
    "    probabilities = np.abs(probe_vector)**2 # probabilities of different outcomes\n",
    "    \n",
    "    # Randomly choose a vertex according to Born rule probabilities.\n",
    "    measured_vertex = rng.choice(probed_vertices,p=probabilities)\n",
    "    \n",
    "    return measured_vertex"
   ]
  },
  {
   "cell_type": "code",
   "execution_count": 88,
   "id": "d96cadfc",
   "metadata": {},
   "outputs": [],
   "source": [
    "def probe_unitary(unitary_mat, probe_vector):\n",
    "    # Simply multiplies the probe state by the given unitary matrix\n",
    "    \n",
    "    n = unitary_mat.shape(1)\n",
    "    assert n==len(probe_vector), 'Probe vector dimension doesn\\'t match.'\n",
    "    assert n==unitary_mat.shape(0), 'Given matrix not square'\n",
    "    assert unitary_mat.conj().T@unitary_mat==np.eye(n), 'Given matrix not unitary'\n",
    "    \n",
    "    return unitary_mat@probe_vector\n",
    "    "
   ]
  },
  {
   "cell_type": "code",
   "execution_count": null,
   "id": "d3ad924e",
   "metadata": {},
   "outputs": [],
   "source": [
    "def path_to_vertex(graph, snake_body, vertex):\n",
    "    # This finds and outputs a path to the chosen vertex, taking into\n",
    "    # account the snake's current position.\n",
    "    # If possible, it returns a path such that the snake doesn't collide\n",
    "    # with itself.\n",
    "    # If no path without collision is possible, status returns False,\n",
    "    # and the returned path is truncated to end at the collision point.\n",
    "    \n",
    "    \n",
    "    # [Not necessary]\n",
    "    \n",
    "    \n",
    "    return path, status"
   ]
  },
  {
   "cell_type": "code",
   "execution_count": null,
   "id": "2d65c0d4",
   "metadata": {},
   "outputs": [],
   "source": [
    "def hint()"
   ]
  },
  {
   "cell_type": "code",
   "execution_count": null,
   "id": "65179579",
   "metadata": {},
   "outputs": [],
   "source": []
  },
  {
   "cell_type": "code",
   "execution_count": null,
   "id": "c9dd2b85",
   "metadata": {},
   "outputs": [],
   "source": [
    "def strike_button(prey_location, guess):\n",
    "    if guess==prey_location:\n",
    "        \n",
    "        # [prey location is revealed to player]\n",
    "        prey_revealed = True\n",
    "        \n",
    "        # [player is asked to move snake to prey location]\n",
    "        \n",
    "        \n",
    "        \n",
    "    else:\n",
    "        life_count -= 1 #increment the number of lives downward.\n",
    "        if life_count <1:\n",
    "            \n",
    "            # [UI tells you you're dead. Game over]\n",
    "            \n",
    "        else:\n",
    "            \n",
    "            # [Take player back to \"beginning of turn state\" so they can continue playing]"
   ]
  },
  {
   "cell_type": "code",
   "execution_count": null,
   "id": "9b869e2a",
   "metadata": {},
   "outputs": [],
   "source": [
    "def on_button_up(rows, columns, prey_revealed, prey_location): # and similar functions for down, left, right\n",
    "    \n",
    "    head = snake_body[-1]\n",
    "    new_head = head - columns # index of square one above the head. Replace for other directions.\n",
    "    \n",
    "    # Detect collision with edge\n",
    "    if new_head not in range(rows*columns):\n",
    "        # Do nothing. I.e. ignore when player tells snake to move off grid.\n",
    "        return\n",
    "    \n",
    "    # Detect collision with self\n",
    "    if new_head in snake_body[1:]:\n",
    "        \n",
    "        # [UI tells you you're dead. Game over]\n",
    "        \n",
    "        return\n",
    "    \n",
    "    # Move snake\n",
    "    snake_body.append(new_head)\n",
    "    # Grow snake only when the prey location is revealed and prey is reached\n",
    "    if not (prey_revealed and new_head==prey_location):\n",
    "        snake_body.pop(0)\n",
    "        \n",
    "    return"
   ]
  },
  {
   "cell_type": "code",
   "execution_count": null,
   "id": "6e0de729",
   "metadata": {},
   "outputs": [],
   "source": [
    "\n",
    "    "
   ]
  },
  {
   "cell_type": "code",
   "execution_count": null,
   "id": "6e2d2582",
   "metadata": {},
   "outputs": [],
   "source": []
  },
  {
   "cell_type": "code",
   "execution_count": null,
   "id": "703685f5",
   "metadata": {},
   "outputs": [],
   "source": []
  },
  {
   "cell_type": "code",
   "execution_count": null,
   "id": "b211ed7f",
   "metadata": {},
   "outputs": [],
   "source": []
  },
  {
   "cell_type": "code",
   "execution_count": 9,
   "id": "25c9bf7a",
   "metadata": {},
   "outputs": [
    {
     "name": "stdout",
     "output_type": "stream",
     "text": [
      "[[ 0  1  2  3]\n",
      " [ 4  5  6  7]\n",
      " [ 8  9 10 11]]\n"
     ]
    },
    {
     "data": {
      "text/plain": [
       "array([ 6, 10,  2])"
      ]
     },
     "execution_count": 9,
     "metadata": {},
     "output_type": "execute_result"
    }
   ],
   "source": [
    "testmat = np.arange(12).reshape((3,4))\n",
    "print(testmat)\n",
    "testmat[[1,2,0],2]"
   ]
  },
  {
   "cell_type": "code",
   "execution_count": null,
   "id": "f2b99de5",
   "metadata": {},
   "outputs": [],
   "source": []
  },
  {
   "cell_type": "code",
   "execution_count": null,
   "id": "3f15059d",
   "metadata": {},
   "outputs": [],
   "source": []
  },
  {
   "cell_type": "code",
   "execution_count": null,
   "id": "12ee0ae5",
   "metadata": {},
   "outputs": [],
   "source": []
  }
 ],
 "metadata": {
  "kernelspec": {
   "display_name": "Python 3 (ipykernel)",
   "language": "python",
   "name": "python3"
  },
  "language_info": {
   "codemirror_mode": {
    "name": "ipython",
    "version": 3
   },
   "file_extension": ".py",
   "mimetype": "text/x-python",
   "name": "python",
   "nbconvert_exporter": "python",
   "pygments_lexer": "ipython3",
   "version": "3.10.4"
  }
 },
 "nbformat": 4,
 "nbformat_minor": 5
}
